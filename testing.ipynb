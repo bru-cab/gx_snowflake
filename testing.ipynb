{
 "cells": [
  {
   "cell_type": "code",
   "execution_count": 30,
   "metadata": {},
   "outputs": [
    {
     "name": "stdout",
     "output_type": "stream",
     "text": [
      "(1, 11, 1)\n",
      "[Row(DB_NAME='CITIBIKE_2', SCHEMA_NAME='NEW_SCHEMA', TABLE_NAME='CONTACTS', COLUMN_NAME='NONE', EXPECTATION='expect_table_column_count_to_equal', PARAMETERS='{\"expectedValues\": {\"value\": [5]}}'), Row(DB_NAME='CITIBIKE_2', SCHEMA_NAME='NEW_SCHEMA', TABLE_NAME='CONTACTS', COLUMN_NAME='NONE', EXPECTATION='expect_table_columns_to_match_ordered_list', PARAMETERS='{\"expectedValues\": {\"list\": [\"FIRSTNAME\", \"LASTNAME\", \"AGE\"]}}')]\n",
      "column_name: 'NONE'\n",
      "expectation_method_name: 'expect_table_column_count_to_equal'\n",
      "parameters: '{'expectedValues': {'value': [5]}}'\n",
      "expected_values: '{'value': [5]}'\n",
      "column_name: 'NONE'\n",
      "expectation_method_name: 'expect_table_columns_to_match_ordered_list'\n",
      "parameters: '{'expectedValues': {'list': ['FIRSTNAME', 'LASTNAME', 'AGE']}}'\n",
      "expected_values: '{'list': ['FIRSTNAME', 'LASTNAME', 'AGE']}'\n"
     ]
    }
   ],
   "source": [
    "import pandas as pd\n",
    "\n",
    "import sys\n",
    "import json\n",
    "import platform\n",
    "import os,requests\n",
    "from pathlib import Path\n",
    "import glob\n",
    "\n",
    "from configs.config import snowflake_conn_prop_local as snowflake_conn_prop\n",
    "from src.DataValidationContext import GEDataValidationContext\n",
    "from src.BatchRequest import getBatchRequest \n",
    "from great_expectations.core.batch import BatchRequest, RuntimeBatchRequest\n",
    "\n",
    "from snowflake.snowpark.session import Session\n",
    "from snowflake.snowpark.functions import udf, avg, col,lit,call_udf,countDistinct,sproc,udf\n",
    "from snowflake.snowpark.types import IntegerType, FloatType, StringType, BooleanType\n",
    "import pandas as pd\n",
    "from configs.config import snowflake_conn_prop_local as snowflake_conn_prop\n",
    "import sys\n",
    "import json\n",
    "import platform\n",
    "import os,requests\n",
    "from pathlib import Path\n",
    "import glob\n",
    "from src.DataValidationContext import *\n",
    "\n",
    "\n",
    "from snowflake.snowpark import version\n",
    "print(version.VERSION)\n",
    "session = Session.builder.configs(snowflake_conn_prop).create()\n",
    "\n",
    "table = 'CONTACTS'\n",
    "table_name = 'CONTACTS'\n",
    "from snowflake.snowpark.functions import col\n",
    "session = Session.builder.configs(snowflake_conn_prop).create()\n",
    "from snowflake.snowpark.session import Session\n",
    "\n",
    "\n",
    "# Retrieve the expectations from the table\n",
    "df_sql = session.table(\"CITIBIKE_2.VALIDATION.EXPECTATIONS\").filter(col(\"TABLE_NAME\") == table.upper())\n",
    "data = df_sql.collect()\n",
    "expectations_df = pd.DataFrame(data)\n",
    "print(data)\n",
    "\n",
    "if not expectations_df.empty:\n",
    "    for _, row in expectations_df.iterrows():\n",
    "        column_name = row['COLUMN_NAME']\n",
    "        print(f\"column_name: '{column_name}'\")                \n",
    "        expectation_method_name = row['EXPECTATION']\n",
    "        print(f\"expectation_method_name: '{expectation_method_name}'\")                \n",
    "        parameters = json.loads(row['PARAMETERS'])\n",
    "        print(f\"parameters: '{parameters}'\")                \n",
    "        expected_values = parameters.get(\"expectedValues\", [])\n",
    "        print(f\"expected_values: '{expected_values}'\")                \n"
   ]
  }
 ],
 "metadata": {
  "kernelspec": {
   "display_name": "gx-snowflake-bV037mNw-py3.10",
   "language": "python",
   "name": "python3"
  },
  "language_info": {
   "codemirror_mode": {
    "name": "ipython",
    "version": 3
   },
   "file_extension": ".py",
   "mimetype": "text/x-python",
   "name": "python",
   "nbconvert_exporter": "python",
   "pygments_lexer": "ipython3",
   "version": "3.10.13"
  },
  "orig_nbformat": 4
 },
 "nbformat": 4,
 "nbformat_minor": 2
}
