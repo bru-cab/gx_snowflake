{
 "cells": [
  {
   "cell_type": "code",
   "execution_count": 1,
   "metadata": {},
   "outputs": [
    {
     "name": "stdout",
     "output_type": "stream",
     "text": [
      "file\n"
     ]
    }
   ],
   "source": [
    "from snowflake.snowpark.session import Session\n",
    "from configs.config import snowflake_conn_prop_local as snowflake_conn_prop\n",
    "session = Session.builder.configs(snowflake_conn_prop).create()"
   ]
  },
  {
   "cell_type": "code",
   "execution_count": 45,
   "metadata": {},
   "outputs": [
    {
     "name": "stdout",
     "output_type": "stream",
     "text": [
      "   RUNSTATUS  \\\n",
      "0      False   \n",
      "1      False   \n",
      "2      False   \n",
      "3      False   \n",
      "4      False   \n",
      "5      False   \n",
      "\n",
      "                                                                                                                  RUNID  \\\n",
      "0  {\\n  \"run_name\": \"20231220-044028-my-pandas_run-name-template\",\\n  \"run_time\": \"2023-12-20T04:40:28.380053+00:00\"\\n}   \n",
      "1  {\\n  \"run_name\": \"20231220-044246-my-pandas_run-name-template\",\\n  \"run_time\": \"2023-12-20T04:42:46.066006+00:00\"\\n}   \n",
      "2  {\\n  \"run_name\": \"20231220-050942-my-pandas_run-name-template\",\\n  \"run_time\": \"2023-12-20T05:09:42.837100+00:00\"\\n}   \n",
      "3  {\\n  \"run_name\": \"20231220-052129-my-pandas_run-name-template\",\\n  \"run_time\": \"2023-12-20T05:21:29.880884+00:00\"\\n}   \n",
      "4  {\\n  \"run_name\": \"20231220-085359-my-pandas_run-name-template\",\\n  \"run_time\": \"2023-12-20T08:53:59.267930+00:00\"\\n}   \n",
      "5  {\\n  \"run_name\": \"20231226-062812-my-pandas_run-name-template\",\\n  \"run_time\": \"2023-12-26T06:28:12.062270+00:00\"\\n}   \n",
      "\n",
      "                                                                                                                                                                                                                                                                                                                                                                                                                                                                                                                                                                                                                                                                                                                                                                                                                                                                                                                                                                                                                                                                                                                                                                                                                                                                                                                                                                                                                                                                                                                                                                                                                                                                                                                                                                                                                                                                                                                                                                                                                                                                                                                                                                                                                                                                                                                                                                                                                                                                                                                                                                                                                                                                                                                                                                                                                                                                                                                                                                                                                                                                                                                                                                                                                                                                                                                                                                                                                                                                                                                                                                                                                                                                                                                        RUNVALIDATION  \n",
      "0                                                                                                                               [\\n  {\\n    \"evaluation_parameters\": {},\\n    \"meta\": {\\n      \"active_batch_definition\": {\\n        \"batch_identifiers\": {\\n          \"default_identifier_name\": \"default_identifier_TRIPS\"\\n        },\\n        \"data_asset_name\": \"PandasData\",\\n        \"data_connector_name\": \"default_runtime_data_connector_name\",\\n        \"datasource_name\": \"TRIPS\"\\n      },\\n      \"batch_markers\": {\\n        \"ge_load_time\": \"20231220T124028.395198Z\",\\n        \"pandas_data_fingerprint\": \"18b01f83c16e090ad6567b387ecd5e8e\"\\n      },\\n      \"batch_spec\": {\\n        \"batch_data\": \"PandasDataFrame\",\\n        \"data_asset_name\": \"PandasData\"\\n      },\\n      \"checkpoint_name\": \"checkpointname\",\\n      \"expectation_suite_name\": \"expecationsuitename\",\\n      \"great_expectations_version\": \"0.15.14\",\\n      \"run_id\": {\\n        \"run_name\": \"20231220-044028-my-pandas_run-name-template\",\\n        \"run_time\": \"2023-12-20T04:40:28.380053+00:00\"\\n      },\\n      \"validation_time\": \"20231220T124028.515803Z\"\\n    },\\n    \"results\": [\\n      {\\n        \"exception_info\": {\\n          \"exception_message\": null,\\n          \"exception_traceback\": null,\\n          \"raised_exception\": false\\n        },\\n        \"expectation_config\": {\\n          \"expectation_type\": \"expect_column_values_to_be_in_set\",\\n          \"kwargs\": {\\n            \"batch_id\": \"ede5132cf66231d5edff9d3818568727\",\\n            \"column\": \"USERTYPE\",\\n            \"value_set\": [\\n              \"Subscriber\"\\n            ]\\n          },\\n          \"meta\": {}\\n        },\\n        \"meta\": {},\\n        \"result\": {\\n          \"element_count\": 10000,\\n          \"missing_count\": 0,\\n          \"missing_percent\": 0,\\n          \"partial_unexpected_counts\": [\\n            {\\n              \"count\": 20,\\n              \"value\": \"Customer\"\\n            }\\n          ],\\n          \"partial_unexpected_index_list\": null,\\n          \"partial_unexpected_list\": [\\n            \"Customer\",\\n            \"Customer\",\\n            \"Customer\",\\n            \"Customer\",\\n            \"Customer\",\\n            \"Customer\",\\n            \"Customer\",\\n            \"Customer\",\\n            \"Customer\",\\n            \"Customer\",\\n            \"Customer\",\\n            \"Customer\",\\n            \"Customer\",\\n            \"Customer\",\\n            \"Customer\",\\n            \"Customer\",\\n            \"Customer\",\\n            \"Customer\",\\n            \"Customer\",\\n            \"Customer\"\\n          ],\\n          \"unexpected_count\": 2378,\\n          \"unexpected_percent\": 23.78,\\n          \"unexpected_percent_nonmissing\": 23.78,\\n          \"unexpected_percent_total\": 23.78\\n        },\\n        \"success\": false\\n      },\\n      {\\n        \"exception_info\": {\\n          \"exception_message\": null,\\n          \"exception_traceback\": null,\\n          \"raised_exception\": false\\n        },\\n        \"expectation_config\": {\\n          \"expectation_type\": \"expect_column_mean_to_be_between\",\\n          \"kwargs\": {\\n            \"batch_id\": \"ede5132cf66231d5edff9d3818568727\",\\n            \"column\": \"TRIPDURATION\",\\n            \"max_value\": 14,\\n            \"min_value\": 13\\n          },\\n          \"meta\": {}\\n        },\\n        \"meta\": {},\\n        \"result\": {\\n          \"observed_value\": 1170.1611\\n        },\\n        \"success\": false\\n      }\\n    ],\\n    \"statistics\": {\\n      \"evaluated_expectations\": 2,\\n      \"success_percent\": 0,\\n      \"successful_expectations\": 0,\\n      \"unsuccessful_expectations\": 2\\n    },\\n    \"success\": false\\n  }\\n]  \n",
      "1  [\\n  {\\n    \"evaluation_parameters\": {},\\n    \"meta\": {\\n      \"active_batch_definition\": {\\n        \"batch_identifiers\": {\\n          \"default_identifier_name\": \"default_identifier_TRIPS\"\\n        },\\n        \"data_asset_name\": \"PandasData\",\\n        \"data_connector_name\": \"default_runtime_data_connector_name\",\\n        \"datasource_name\": \"TRIPS\"\\n      },\\n      \"batch_markers\": {\\n        \"ge_load_time\": \"20231220T124246.081220Z\",\\n        \"pandas_data_fingerprint\": \"18b01f83c16e090ad6567b387ecd5e8e\"\\n      },\\n      \"batch_spec\": {\\n        \"batch_data\": \"PandasDataFrame\",\\n        \"data_asset_name\": \"PandasData\"\\n      },\\n      \"checkpoint_name\": \"checkpointname\",\\n      \"expectation_suite_name\": \"expecationsuitename\",\\n      \"great_expectations_version\": \"0.15.14\",\\n      \"run_id\": {\\n        \"run_name\": \"20231220-044246-my-pandas_run-name-template\",\\n        \"run_time\": \"2023-12-20T04:42:46.066006+00:00\"\\n      },\\n      \"validation_time\": \"20231220T124246.202163Z\"\\n    },\\n    \"results\": [\\n      {\\n        \"exception_info\": {\\n          \"exception_message\": null,\\n          \"exception_traceback\": null,\\n          \"raised_exception\": false\\n        },\\n        \"expectation_config\": {\\n          \"expectation_type\": \"expect_column_values_to_be_in_set\",\\n          \"kwargs\": {\\n            \"batch_id\": \"ede5132cf66231d5edff9d3818568727\",\\n            \"column\": \"USERTYPE\",\\n            \"value_set\": [\\n              \"AVERSIANDAS\"\\n            ]\\n          },\\n          \"meta\": {}\\n        },\\n        \"meta\": {},\\n        \"result\": {\\n          \"element_count\": 10000,\\n          \"missing_count\": 0,\\n          \"missing_percent\": 0,\\n          \"partial_unexpected_counts\": [\\n            {\\n              \"count\": 17,\\n              \"value\": \"Subscriber\"\\n            },\\n            {\\n              \"count\": 3,\\n              \"value\": \"Customer\"\\n            }\\n          ],\\n          \"partial_unexpected_index_list\": null,\\n          \"partial_unexpected_list\": [\\n            \"Subscriber\",\\n            \"Subscriber\",\\n            \"Subscriber\",\\n            \"Subscriber\",\\n            \"Customer\",\\n            \"Subscriber\",\\n            \"Subscriber\",\\n            \"Subscriber\",\\n            \"Subscriber\",\\n            \"Subscriber\",\\n            \"Subscriber\",\\n            \"Subscriber\",\\n            \"Subscriber\",\\n            \"Customer\",\\n            \"Subscriber\",\\n            \"Subscriber\",\\n            \"Customer\",\\n            \"Subscriber\",\\n            \"Subscriber\",\\n            \"Subscriber\"\\n          ],\\n          \"unexpected_count\": 10000,\\n          \"unexpected_percent\": 100,\\n          \"unexpected_percent_nonmissing\": 100,\\n          \"unexpected_percent_total\": 100\\n        },\\n        \"success\": false\\n      },\\n      {\\n        \"exception_info\": {\\n          \"exception_message\": null,\\n          \"exception_traceback\": null,\\n          \"raised_exception\": false\\n        },\\n        \"expectation_config\": {\\n          \"expectation_type\": \"expect_column_mean_to_be_between\",\\n          \"kwargs\": {\\n            \"batch_id\": \"ede5132cf66231d5edff9d3818568727\",\\n            \"column\": \"TRIPDURATION\",\\n            \"max_value\": 14,\\n            \"min_value\": 13\\n          },\\n          \"meta\": {}\\n        },\\n        \"meta\": {},\\n        \"result\": {\\n          \"observed_value\": 1170.1611\\n        },\\n        \"success\": false\\n      }\\n    ],\\n    \"statistics\": {\\n      \"evaluated_expectations\": 2,\\n      \"success_percent\": 0,\\n      \"successful_expectations\": 0,\\n      \"unsuccessful_expectations\": 2\\n    },\\n    \"success\": false\\n  }\\n]  \n",
      "2  [\\n  {\\n    \"evaluation_parameters\": {},\\n    \"meta\": {\\n      \"active_batch_definition\": {\\n        \"batch_identifiers\": {\\n          \"default_identifier_name\": \"default_identifier_TRIPS\"\\n        },\\n        \"data_asset_name\": \"PandasData\",\\n        \"data_connector_name\": \"default_runtime_data_connector_name\",\\n        \"datasource_name\": \"TRIPS\"\\n      },\\n      \"batch_markers\": {\\n        \"ge_load_time\": \"20231220T130942.853278Z\",\\n        \"pandas_data_fingerprint\": \"18b01f83c16e090ad6567b387ecd5e8e\"\\n      },\\n      \"batch_spec\": {\\n        \"batch_data\": \"PandasDataFrame\",\\n        \"data_asset_name\": \"PandasData\"\\n      },\\n      \"checkpoint_name\": \"checkpointname\",\\n      \"expectation_suite_name\": \"expecationsuitename\",\\n      \"great_expectations_version\": \"0.15.14\",\\n      \"run_id\": {\\n        \"run_name\": \"20231220-050942-my-pandas_run-name-template\",\\n        \"run_time\": \"2023-12-20T05:09:42.837100+00:00\"\\n      },\\n      \"validation_time\": \"20231220T130942.983428Z\"\\n    },\\n    \"results\": [\\n      {\\n        \"exception_info\": {\\n          \"exception_message\": null,\\n          \"exception_traceback\": null,\\n          \"raised_exception\": false\\n        },\\n        \"expectation_config\": {\\n          \"expectation_type\": \"expect_column_values_to_be_in_set\",\\n          \"kwargs\": {\\n            \"batch_id\": \"ede5132cf66231d5edff9d3818568727\",\\n            \"column\": \"USERTYPE\",\\n            \"value_set\": [\\n              \"AVERSIANDAS\"\\n            ]\\n          },\\n          \"meta\": {}\\n        },\\n        \"meta\": {},\\n        \"result\": {\\n          \"element_count\": 10000,\\n          \"missing_count\": 0,\\n          \"missing_percent\": 0,\\n          \"partial_unexpected_counts\": [\\n            {\\n              \"count\": 17,\\n              \"value\": \"Subscriber\"\\n            },\\n            {\\n              \"count\": 3,\\n              \"value\": \"Customer\"\\n            }\\n          ],\\n          \"partial_unexpected_index_list\": null,\\n          \"partial_unexpected_list\": [\\n            \"Subscriber\",\\n            \"Subscriber\",\\n            \"Subscriber\",\\n            \"Subscriber\",\\n            \"Customer\",\\n            \"Subscriber\",\\n            \"Subscriber\",\\n            \"Subscriber\",\\n            \"Subscriber\",\\n            \"Subscriber\",\\n            \"Subscriber\",\\n            \"Subscriber\",\\n            \"Subscriber\",\\n            \"Customer\",\\n            \"Subscriber\",\\n            \"Subscriber\",\\n            \"Customer\",\\n            \"Subscriber\",\\n            \"Subscriber\",\\n            \"Subscriber\"\\n          ],\\n          \"unexpected_count\": 10000,\\n          \"unexpected_percent\": 100,\\n          \"unexpected_percent_nonmissing\": 100,\\n          \"unexpected_percent_total\": 100\\n        },\\n        \"success\": false\\n      },\\n      {\\n        \"exception_info\": {\\n          \"exception_message\": null,\\n          \"exception_traceback\": null,\\n          \"raised_exception\": false\\n        },\\n        \"expectation_config\": {\\n          \"expectation_type\": \"expect_column_mean_to_be_between\",\\n          \"kwargs\": {\\n            \"batch_id\": \"ede5132cf66231d5edff9d3818568727\",\\n            \"column\": \"TRIPDURATION\",\\n            \"max_value\": 14,\\n            \"min_value\": 13\\n          },\\n          \"meta\": {}\\n        },\\n        \"meta\": {},\\n        \"result\": {\\n          \"observed_value\": 1170.1611\\n        },\\n        \"success\": false\\n      }\\n    ],\\n    \"statistics\": {\\n      \"evaluated_expectations\": 2,\\n      \"success_percent\": 0,\\n      \"successful_expectations\": 0,\\n      \"unsuccessful_expectations\": 2\\n    },\\n    \"success\": false\\n  }\\n]  \n",
      "3  [\\n  {\\n    \"evaluation_parameters\": {},\\n    \"meta\": {\\n      \"active_batch_definition\": {\\n        \"batch_identifiers\": {\\n          \"default_identifier_name\": \"default_identifier_TRIPS\"\\n        },\\n        \"data_asset_name\": \"PandasData\",\\n        \"data_connector_name\": \"default_runtime_data_connector_name\",\\n        \"datasource_name\": \"TRIPS\"\\n      },\\n      \"batch_markers\": {\\n        \"ge_load_time\": \"20231220T132129.896094Z\",\\n        \"pandas_data_fingerprint\": \"18b01f83c16e090ad6567b387ecd5e8e\"\\n      },\\n      \"batch_spec\": {\\n        \"batch_data\": \"PandasDataFrame\",\\n        \"data_asset_name\": \"PandasData\"\\n      },\\n      \"checkpoint_name\": \"checkpointname\",\\n      \"expectation_suite_name\": \"expecationsuitename\",\\n      \"great_expectations_version\": \"0.15.14\",\\n      \"run_id\": {\\n        \"run_name\": \"20231220-052129-my-pandas_run-name-template\",\\n        \"run_time\": \"2023-12-20T05:21:29.880884+00:00\"\\n      },\\n      \"validation_time\": \"20231220T132130.017705Z\"\\n    },\\n    \"results\": [\\n      {\\n        \"exception_info\": {\\n          \"exception_message\": null,\\n          \"exception_traceback\": null,\\n          \"raised_exception\": false\\n        },\\n        \"expectation_config\": {\\n          \"expectation_type\": \"expect_column_values_to_be_in_set\",\\n          \"kwargs\": {\\n            \"batch_id\": \"ede5132cf66231d5edff9d3818568727\",\\n            \"column\": \"USERTYPE\",\\n            \"value_set\": [\\n              \"AVERSIANDAS\"\\n            ]\\n          },\\n          \"meta\": {}\\n        },\\n        \"meta\": {},\\n        \"result\": {\\n          \"element_count\": 10000,\\n          \"missing_count\": 0,\\n          \"missing_percent\": 0,\\n          \"partial_unexpected_counts\": [\\n            {\\n              \"count\": 17,\\n              \"value\": \"Subscriber\"\\n            },\\n            {\\n              \"count\": 3,\\n              \"value\": \"Customer\"\\n            }\\n          ],\\n          \"partial_unexpected_index_list\": null,\\n          \"partial_unexpected_list\": [\\n            \"Subscriber\",\\n            \"Subscriber\",\\n            \"Subscriber\",\\n            \"Subscriber\",\\n            \"Customer\",\\n            \"Subscriber\",\\n            \"Subscriber\",\\n            \"Subscriber\",\\n            \"Subscriber\",\\n            \"Subscriber\",\\n            \"Subscriber\",\\n            \"Subscriber\",\\n            \"Subscriber\",\\n            \"Customer\",\\n            \"Subscriber\",\\n            \"Subscriber\",\\n            \"Customer\",\\n            \"Subscriber\",\\n            \"Subscriber\",\\n            \"Subscriber\"\\n          ],\\n          \"unexpected_count\": 10000,\\n          \"unexpected_percent\": 100,\\n          \"unexpected_percent_nonmissing\": 100,\\n          \"unexpected_percent_total\": 100\\n        },\\n        \"success\": false\\n      },\\n      {\\n        \"exception_info\": {\\n          \"exception_message\": null,\\n          \"exception_traceback\": null,\\n          \"raised_exception\": false\\n        },\\n        \"expectation_config\": {\\n          \"expectation_type\": \"expect_column_mean_to_be_between\",\\n          \"kwargs\": {\\n            \"batch_id\": \"ede5132cf66231d5edff9d3818568727\",\\n            \"column\": \"TRIPDURATION\",\\n            \"max_value\": 14,\\n            \"min_value\": 13\\n          },\\n          \"meta\": {}\\n        },\\n        \"meta\": {},\\n        \"result\": {\\n          \"observed_value\": 1170.1611\\n        },\\n        \"success\": false\\n      }\\n    ],\\n    \"statistics\": {\\n      \"evaluated_expectations\": 2,\\n      \"success_percent\": 0,\\n      \"successful_expectations\": 0,\\n      \"unsuccessful_expectations\": 2\\n    },\\n    \"success\": false\\n  }\\n]  \n",
      "4                                                                                                                               [\\n  {\\n    \"evaluation_parameters\": {},\\n    \"meta\": {\\n      \"active_batch_definition\": {\\n        \"batch_identifiers\": {\\n          \"default_identifier_name\": \"default_identifier_TRIPS\"\\n        },\\n        \"data_asset_name\": \"PandasData\",\\n        \"data_connector_name\": \"default_runtime_data_connector_name\",\\n        \"datasource_name\": \"TRIPS\"\\n      },\\n      \"batch_markers\": {\\n        \"ge_load_time\": \"20231220T165359.283485Z\",\\n        \"pandas_data_fingerprint\": \"18b01f83c16e090ad6567b387ecd5e8e\"\\n      },\\n      \"batch_spec\": {\\n        \"batch_data\": \"PandasDataFrame\",\\n        \"data_asset_name\": \"PandasData\"\\n      },\\n      \"checkpoint_name\": \"checkpointname\",\\n      \"expectation_suite_name\": \"expecationsuitename\",\\n      \"great_expectations_version\": \"0.15.14\",\\n      \"run_id\": {\\n        \"run_name\": \"20231220-085359-my-pandas_run-name-template\",\\n        \"run_time\": \"2023-12-20T08:53:59.267930+00:00\"\\n      },\\n      \"validation_time\": \"20231220T165359.407537Z\"\\n    },\\n    \"results\": [\\n      {\\n        \"exception_info\": {\\n          \"exception_message\": null,\\n          \"exception_traceback\": null,\\n          \"raised_exception\": false\\n        },\\n        \"expectation_config\": {\\n          \"expectation_type\": \"expect_column_values_to_be_in_set\",\\n          \"kwargs\": {\\n            \"batch_id\": \"ede5132cf66231d5edff9d3818568727\",\\n            \"column\": \"USERTYPE\",\\n            \"value_set\": [\\n              \"Subscriber\"\\n            ]\\n          },\\n          \"meta\": {}\\n        },\\n        \"meta\": {},\\n        \"result\": {\\n          \"element_count\": 10000,\\n          \"missing_count\": 0,\\n          \"missing_percent\": 0,\\n          \"partial_unexpected_counts\": [\\n            {\\n              \"count\": 20,\\n              \"value\": \"Customer\"\\n            }\\n          ],\\n          \"partial_unexpected_index_list\": null,\\n          \"partial_unexpected_list\": [\\n            \"Customer\",\\n            \"Customer\",\\n            \"Customer\",\\n            \"Customer\",\\n            \"Customer\",\\n            \"Customer\",\\n            \"Customer\",\\n            \"Customer\",\\n            \"Customer\",\\n            \"Customer\",\\n            \"Customer\",\\n            \"Customer\",\\n            \"Customer\",\\n            \"Customer\",\\n            \"Customer\",\\n            \"Customer\",\\n            \"Customer\",\\n            \"Customer\",\\n            \"Customer\",\\n            \"Customer\"\\n          ],\\n          \"unexpected_count\": 2378,\\n          \"unexpected_percent\": 23.78,\\n          \"unexpected_percent_nonmissing\": 23.78,\\n          \"unexpected_percent_total\": 23.78\\n        },\\n        \"success\": false\\n      },\\n      {\\n        \"exception_info\": {\\n          \"exception_message\": null,\\n          \"exception_traceback\": null,\\n          \"raised_exception\": false\\n        },\\n        \"expectation_config\": {\\n          \"expectation_type\": \"expect_column_mean_to_be_between\",\\n          \"kwargs\": {\\n            \"batch_id\": \"ede5132cf66231d5edff9d3818568727\",\\n            \"column\": \"TRIPDURATION\",\\n            \"max_value\": 14,\\n            \"min_value\": 13\\n          },\\n          \"meta\": {}\\n        },\\n        \"meta\": {},\\n        \"result\": {\\n          \"observed_value\": 1170.1611\\n        },\\n        \"success\": false\\n      }\\n    ],\\n    \"statistics\": {\\n      \"evaluated_expectations\": 2,\\n      \"success_percent\": 0,\\n      \"successful_expectations\": 0,\\n      \"unsuccessful_expectations\": 2\\n    },\\n    \"success\": false\\n  }\\n]  \n",
      "5                                                                                                                                 [\\n  {\\n    \"evaluation_parameters\": {},\\n    \"meta\": {\\n      \"active_batch_definition\": {\\n        \"batch_identifiers\": {\\n          \"default_identifier_name\": \"default_identifier_TRIPS\"\\n        },\\n        \"data_asset_name\": \"PandasData\",\\n        \"data_connector_name\": \"default_runtime_data_connector_name\",\\n        \"datasource_name\": \"TRIPS\"\\n      },\\n      \"batch_markers\": {\\n        \"ge_load_time\": \"20231226T142812.078136Z\",\\n        \"pandas_data_fingerprint\": \"da406db4bf6cfc9453998c8724f7a167\"\\n      },\\n      \"batch_spec\": {\\n        \"batch_data\": \"PandasDataFrame\",\\n        \"data_asset_name\": \"PandasData\"\\n      },\\n      \"checkpoint_name\": \"checkpointname\",\\n      \"expectation_suite_name\": \"expecationsuitename\",\\n      \"great_expectations_version\": \"0.15.14\",\\n      \"run_id\": {\\n        \"run_name\": \"20231226-062812-my-pandas_run-name-template\",\\n        \"run_time\": \"2023-12-26T06:28:12.062270+00:00\"\\n      },\\n      \"validation_time\": \"20231226T142812.200460Z\"\\n    },\\n    \"results\": [\\n      {\\n        \"exception_info\": {\\n          \"exception_message\": null,\\n          \"exception_traceback\": null,\\n          \"raised_exception\": false\\n        },\\n        \"expectation_config\": {\\n          \"expectation_type\": \"expect_column_values_to_be_in_set\",\\n          \"kwargs\": {\\n            \"batch_id\": \"ede5132cf66231d5edff9d3818568727\",\\n            \"column\": \"USERTYPE\",\\n            \"value_set\": [\\n              \"Subscriber\"\\n            ]\\n          },\\n          \"meta\": {}\\n        },\\n        \"meta\": {},\\n        \"result\": {\\n          \"element_count\": 10000,\\n          \"missing_count\": 0,\\n          \"missing_percent\": 0,\\n          \"partial_unexpected_counts\": [\\n            {\\n              \"count\": 20,\\n              \"value\": \"Customer\"\\n            }\\n          ],\\n          \"partial_unexpected_index_list\": null,\\n          \"partial_unexpected_list\": [\\n            \"Customer\",\\n            \"Customer\",\\n            \"Customer\",\\n            \"Customer\",\\n            \"Customer\",\\n            \"Customer\",\\n            \"Customer\",\\n            \"Customer\",\\n            \"Customer\",\\n            \"Customer\",\\n            \"Customer\",\\n            \"Customer\",\\n            \"Customer\",\\n            \"Customer\",\\n            \"Customer\",\\n            \"Customer\",\\n            \"Customer\",\\n            \"Customer\",\\n            \"Customer\",\\n            \"Customer\"\\n          ],\\n          \"unexpected_count\": 1328,\\n          \"unexpected_percent\": 13.28,\\n          \"unexpected_percent_nonmissing\": 13.28,\\n          \"unexpected_percent_total\": 13.28\\n        },\\n        \"success\": false\\n      },\\n      {\\n        \"exception_info\": {\\n          \"exception_message\": null,\\n          \"exception_traceback\": null,\\n          \"raised_exception\": false\\n        },\\n        \"expectation_config\": {\\n          \"expectation_type\": \"expect_column_mean_to_be_between\",\\n          \"kwargs\": {\\n            \"batch_id\": \"ede5132cf66231d5edff9d3818568727\",\\n            \"column\": \"TRIPDURATION\",\\n            \"max_value\": 14,\\n            \"min_value\": 13\\n          },\\n          \"meta\": {}\\n        },\\n        \"meta\": {},\\n        \"result\": {\\n          \"observed_value\": 888.484\\n        },\\n        \"success\": false\\n      }\\n    ],\\n    \"statistics\": {\\n      \"evaluated_expectations\": 2,\\n      \"success_percent\": 0,\\n      \"successful_expectations\": 0,\\n      \"unsuccessful_expectations\": 2\\n    },\\n    \"success\": false\\n  }\\n]  \n"
     ]
    }
   ],
   "source": [
    "import pandas as pd\n",
    "import json\n",
    "\n",
    "df_sql = session.table(\"citibike_2.validation.trips_validation_raw\")\n",
    "data = df_sql.collect()\n",
    "df = pd.DataFrame(data) \n",
    "print(df)"
   ]
  },
  {
   "cell_type": "code",
   "execution_count": 46,
   "metadata": {},
   "outputs": [
    {
     "data": {
      "text/markdown": [
       "```json\n",
       "[\n",
       "    {\n",
       "        \"evaluation_parameters\": {},\n",
       "        \"meta\": {\n",
       "            \"active_batch_definition\": {\n",
       "                \"batch_identifiers\": {\n",
       "                    \"default_identifier_name\": \"default_identifier_TRIPS\"\n",
       "                },\n",
       "                \"data_asset_name\": \"PandasData\",\n",
       "                \"data_connector_name\": \"default_runtime_data_connector_name\",\n",
       "                \"datasource_name\": \"TRIPS\"\n",
       "            },\n",
       "            \"batch_markers\": {\n",
       "                \"ge_load_time\": \"20231220T124028.395198Z\",\n",
       "                \"pandas_data_fingerprint\": \"18b01f83c16e090ad6567b387ecd5e8e\"\n",
       "            },\n",
       "            \"batch_spec\": {\n",
       "                \"batch_data\": \"PandasDataFrame\",\n",
       "                \"data_asset_name\": \"PandasData\"\n",
       "            },\n",
       "            \"checkpoint_name\": \"checkpointname\",\n",
       "            \"expectation_suite_name\": \"expecationsuitename\",\n",
       "            \"great_expectations_version\": \"0.15.14\",\n",
       "            \"run_id\": {\n",
       "                \"run_name\": \"20231220-044028-my-pandas_run-name-template\",\n",
       "                \"run_time\": \"2023-12-20T04:40:28.380053+00:00\"\n",
       "            },\n",
       "            \"validation_time\": \"20231220T124028.515803Z\"\n",
       "        },\n",
       "        \"results\": [\n",
       "            {\n",
       "                \"exception_info\": {\n",
       "                    \"exception_message\": null,\n",
       "                    \"exception_traceback\": null,\n",
       "                    \"raised_exception\": false\n",
       "                },\n",
       "                \"expectation_config\": {\n",
       "                    \"expectation_type\": \"expect_column_values_to_be_in_set\",\n",
       "                    \"kwargs\": {\n",
       "                        \"batch_id\": \"ede5132cf66231d5edff9d3818568727\",\n",
       "                        \"column\": \"USERTYPE\",\n",
       "                        \"value_set\": [\n",
       "                            \"Subscriber\"\n",
       "                        ]\n",
       "                    },\n",
       "                    \"meta\": {}\n",
       "                },\n",
       "                \"meta\": {},\n",
       "                \"result\": {\n",
       "                    \"element_count\": 10000,\n",
       "                    \"missing_count\": 0,\n",
       "                    \"missing_percent\": 0,\n",
       "                    \"partial_unexpected_counts\": [\n",
       "                        {\n",
       "                            \"count\": 20,\n",
       "                            \"value\": \"Customer\"\n",
       "                        }\n",
       "                    ],\n",
       "                    \"partial_unexpected_index_list\": null,\n",
       "                    \"partial_unexpected_list\": [\n",
       "                        \"Customer\",\n",
       "                        \"Customer\",\n",
       "                        \"Customer\",\n",
       "                        \"Customer\",\n",
       "                        \"Customer\",\n",
       "                        \"Customer\",\n",
       "                        \"Customer\",\n",
       "                        \"Customer\",\n",
       "                        \"Customer\",\n",
       "                        \"Customer\",\n",
       "                        \"Customer\",\n",
       "                        \"Customer\",\n",
       "                        \"Customer\",\n",
       "                        \"Customer\",\n",
       "                        \"Customer\",\n",
       "                        \"Customer\",\n",
       "                        \"Customer\",\n",
       "                        \"Customer\",\n",
       "                        \"Customer\",\n",
       "                        \"Customer\"\n",
       "                    ],\n",
       "                    \"unexpected_count\": 2378,\n",
       "                    \"unexpected_percent\": 23.78,\n",
       "                    \"unexpected_percent_nonmissing\": 23.78,\n",
       "                    \"unexpected_percent_total\": 23.78\n",
       "                },\n",
       "                \"success\": false\n",
       "            },\n",
       "            {\n",
       "                \"exception_info\": {\n",
       "                    \"exception_message\": null,\n",
       "                    \"exception_traceback\": null,\n",
       "                    \"raised_exception\": false\n",
       "                },\n",
       "                \"expectation_config\": {\n",
       "                    \"expectation_type\": \"expect_column_mean_to_be_between\",\n",
       "                    \"kwargs\": {\n",
       "                        \"batch_id\": \"ede5132cf66231d5edff9d3818568727\",\n",
       "                        \"column\": \"TRIPDURATION\",\n",
       "                        \"max_value\": 14,\n",
       "                        \"min_value\": 13\n",
       "                    },\n",
       "                    \"meta\": {}\n",
       "                },\n",
       "                \"meta\": {},\n",
       "                \"result\": {\n",
       "                    \"observed_value\": 1170.1611\n",
       "                },\n",
       "                \"success\": false\n",
       "            }\n",
       "        ],\n",
       "        \"statistics\": {\n",
       "            \"evaluated_expectations\": 2,\n",
       "            \"success_percent\": 0,\n",
       "            \"successful_expectations\": 0,\n",
       "            \"unsuccessful_expectations\": 2\n",
       "        },\n",
       "        \"success\": false\n",
       "    }\n",
       "]\n",
       "```"
      ],
      "text/plain": [
       "<IPython.core.display.Markdown object>"
      ]
     },
     "metadata": {},
     "output_type": "display_data"
    }
   ],
   "source": [
    "import json\n",
    "from IPython.display import display, Markdown\n",
    "\n",
    "# Load and display the JSON\n",
    "json_object = json.loads(df['RUNVALIDATION'].iloc[0])\n",
    "display(Markdown(\"```json\\n\" + json.dumps(json_object, indent=4) + \"\\n```\"))\n"
   ]
  },
  {
   "cell_type": "code",
   "execution_count": 129,
   "metadata": {},
   "outputs": [
    {
     "name": "stdout",
     "output_type": "stream",
     "text": [
      "[2]\n"
     ]
    }
   ],
   "source": [
    "evaluated_expectations = [item[\"statistics\"][\"evaluated_expectations\"] for item in json_object]\n",
    "print(evaluated_expectations)"
   ]
  },
  {
   "cell_type": "code",
   "execution_count": 130,
   "metadata": {},
   "outputs": [
    {
     "name": "stdout",
     "output_type": "stream",
     "text": [
      "['expect_column_values_to_be_in_set', 'expect_column_mean_to_be_between']\n"
     ]
    }
   ],
   "source": [
    "expectation_types = []\n",
    "\n",
    "# Loop through the items in json_object\n",
    "for item in json_object:\n",
    "    results = item.get(\"results\", [])  # Get the results list or an empty list if not present\n",
    "    for result in results:\n",
    "        expectation_type = result.get(\"expectation_config\", {}).get(\"expectation_type\")\n",
    "        if expectation_type is not None:\n",
    "            expectation_types.append(expectation_type)\n",
    "\n",
    "print(expectation_types)\n"
   ]
  },
  {
   "cell_type": "code",
   "execution_count": 134,
   "metadata": {},
   "outputs": [
    {
     "name": "stdout",
     "output_type": "stream",
     "text": [
      "Expectation Type: expect_column_values_to_be_in_set\n",
      "Column Name: USERTYPE\n",
      "Value Set: Subscriber\n",
      "Result: 23.78\n",
      "Success Status: False\n",
      "Runtime: 2023-12-20T04:40:28.380053+00:00\n",
      "----------------------------------------\n",
      "Expectation Type: expect_column_mean_to_be_between\n",
      "Column Name: TRIPDURATION\n",
      "Value Set: (13,14)\n",
      "Result: 1170.1611\n",
      "Success Status: False\n",
      "Runtime: 2023-12-20T04:40:28.380053+00:00\n",
      "----------------------------------------\n"
     ]
    }
   ],
   "source": [
    "# Import the necessary libraries\n",
    "import pandas as pd\n",
    "\n",
    "# Initialize a list to store the extracted information\n",
    "extracted_data = []\n",
    "\n",
    "# Initialize a dictionary to store information for different expectation types\n",
    "expectation_data = {}\n",
    "\n",
    "# Assuming json_object contains the provided JSON data\n",
    "for item in json_object:\n",
    "    results = item.get(\"results\", [])  # Get the results list or an empty list if not present\n",
    "    for result in results:\n",
    "        expectation_type = result.get(\"expectation_config\", {}).get(\"expectation_type\")\n",
    "        \n",
    "        if expectation_type == \"expect_column_values_to_be_in_set\":\n",
    "            # Extract the column name for \"expect_column_values_to_be_in_set\" if it exists\n",
    "            column_name = result.get(\"expectation_config\", {}).get(\"kwargs\", {}).get(\"column\")\n",
    "            \n",
    "            # Extract the value_set for \"expect_column_values_to_be_in_set\" if it exists\n",
    "            value_set = result.get(\"expectation_config\", {}).get(\"kwargs\", {}).get(\"value_set\")\n",
    "            \n",
    "            # Remove square brackets and single quotes if value_set is a list with a single element\n",
    "            if isinstance(value_set, list) and len(value_set) == 1:\n",
    "                value_set = value_set[0]\n",
    "            \n",
    "            # Extract unexpected_percent_nonmissing for \"expect_column_values_to_be_in_set\" if it exists\n",
    "            unexpected_percent_nonmissing = result.get(\"result\", {}).get(\"unexpected_percent_nonmissing\")\n",
    "            \n",
    "            # Extract the success status for \"expect_column_values_to_be_in_set\"\n",
    "            success_status = result.get(\"success\", False)\n",
    "            \n",
    "            # Extract the runtime\n",
    "            runtime = item.get(\"meta\", {}).get(\"run_id\", {}).get(\"run_time\")\n",
    "            \n",
    "            # Append the extracted information to the list\n",
    "            extracted_data.append({\n",
    "                \"COLUMN_NAME\": column_name,\n",
    "                \"EXPECTATION_TYPE\": expectation_type,\n",
    "                \"VALUE_SET\": value_set,\n",
    "                \"RESULT\": unexpected_percent_nonmissing,\n",
    "                \"SUCCESS_STATUS\": success_status,\n",
    "                \"RUNTIME\": runtime\n",
    "            })\n",
    "            \n",
    "            # Store the information in a dictionary using the expectation_type as the key\n",
    "            expectation_data.setdefault(expectation_type, []).append({\n",
    "                \"COLUMN_NAME\": column_name,\n",
    "                \"VALUE_SET\": value_set,\n",
    "                \"RESULT\": unexpected_percent_nonmissing,\n",
    "                \"SUCCESS_STATUS\": success_status,\n",
    "                \"RUNTIME\": runtime\n",
    "            })\n",
    "        \n",
    "        elif expectation_type == \"expect_column_mean_to_be_between\":\n",
    "            # Extract the column name for \"expect_column_mean_to_be_between\" if it exists\n",
    "            column_name = result.get(\"expectation_config\", {}).get(\"kwargs\", {}).get(\"column\")\n",
    "            \n",
    "            # Extract observed_value for \"expect_column_mean_to_be_between\" if it exists\n",
    "            observed_value = result.get(\"result\", {}).get(\"observed_value\")\n",
    "            \n",
    "            # Extract min_value and max_value for \"expect_column_mean_to_be_between\" if they exist\n",
    "            min_value = result.get(\"expectation_config\", {}).get(\"kwargs\", {}).get(\"min_value\")\n",
    "            max_value = result.get(\"expectation_config\", {}).get(\"kwargs\", {}).get(\"max_value\")\n",
    "            \n",
    "            # Extract the success status for \"expect_column_mean_to_be_between\"\n",
    "            success_status = result.get(\"success\", False)\n",
    "            \n",
    "            # Extract the runtime\n",
    "            runtime = item.get(\"meta\", {}).get(\"run_id\", {}).get(\"run_time\")\n",
    "            \n",
    "            # Append the extracted information to the list\n",
    "            extracted_data.append({\n",
    "                \"COLUMN_NAME\": column_name,\n",
    "                \"EXPECTATION_TYPE\": expectation_type,\n",
    "                \"VALUE_SET\": f\"({min_value},{max_value})\",\n",
    "                \"RESULT\": observed_value,\n",
    "                \"SUCCESS_STATUS\": success_status,\n",
    "                \"RUNTIME\": runtime\n",
    "            })\n",
    "            \n",
    "            # Store the information in a dictionary using the expectation_type as the key\n",
    "            expectation_data.setdefault(expectation_type, []).append({\n",
    "                \"COLUMN_NAME\": column_name,\n",
    "                \"VALUE_SET\": f\"({min_value},{max_value})\",\n",
    "                \"RESULT\": observed_value,\n",
    "                \"SUCCESS_STATUS\": success_status,\n",
    "                \"RUNTIME\": runtime\n",
    "            })\n",
    "\n",
    "# Print or use the extracted information organized by expectation_type\n",
    "for expectation_type, data_list in expectation_data.items():\n",
    "    print(f\"Expectation Type: {expectation_type}\")\n",
    "    for data in data_list:\n",
    "        print(f\"Column Name: {data.get('COLUMN_NAME')}\")\n",
    "        print(f\"Value Set: {data.get('VALUE_SET')}\")\n",
    "        print(f\"Result: {data.get('RESULT')}\")\n",
    "        print(f\"Success Status: {data.get('SUCCESS_STATUS')}\")\n",
    "        print(f\"Runtime: {data.get('RUNTIME')}\")\n",
    "    print(\"-\" * 40)  # Print a separator between each expectation_type\n"
   ]
  },
  {
   "cell_type": "code",
   "execution_count": 135,
   "metadata": {},
   "outputs": [
    {
     "name": "stdout",
     "output_type": "stream",
     "text": [
      "    COLUMN_NAME                   EXPECTATION_TYPE   VALUE_SET     RESULT  \\\n",
      "0      USERTYPE  expect_column_values_to_be_in_set  Subscriber    23.7800   \n",
      "1  TRIPDURATION   expect_column_mean_to_be_between     (13,14)  1170.1611   \n",
      "\n",
      "   SUCCESS_STATUS                           RUNTIME  \n",
      "0           False  2023-12-20T04:40:28.380053+00:00  \n",
      "1           False  2023-12-20T04:40:28.380053+00:00  \n"
     ]
    }
   ],
   "source": [
    "# Create a DataFrame from the extracted data\n",
    "df = pd.DataFrame(extracted_data)\n",
    "\n",
    "# Display the DataFrame\n",
    "print(df)\n"
   ]
  },
  {
   "cell_type": "code",
   "execution_count": null,
   "metadata": {},
   "outputs": [],
   "source": [
    "# CREATE TABLE TO UPLOAD CLEAN RESULTS\n",
    "\n",
    "# create or replace TABLE CITIBIKE_2.VALIDATION.TRIPS_VALIDATION_CLEAN (\n",
    "# \t\"COLUMN_NAME\" VARCHAR(16777216),\n",
    "# \t\"EXPECTATION_TYPE\" VARCHAR(16777216),\n",
    "# \t\"VALUE_SET\" VARCHAR(16777216),\n",
    "# \t\"RESULT\" VARCHAR(16777216),\n",
    "# \t\"SUCCESS_STATUS\" BOOLEAN,\n",
    "# \t\"RUNTIME\" TIMESTAMP_NTZ(9)\n",
    "# );\n"
   ]
  },
  {
   "cell_type": "code",
   "execution_count": 137,
   "metadata": {},
   "outputs": [
    {
     "name": "stdout",
     "output_type": "stream",
     "text": [
      "INSERT INTO citibike_2.validation.TRIPS_VALIDATION_CLEAN (COLUMN_NAME, EXPECTATION_TYPE, VALUE_SET, RESULT, SUCCESS_STATUS, RUNTIME) VALUES ('USERTYPE', 'expect_column_values_to_be_in_set', 'Subscriber', '23.78', 'False', '2023-12-20T04:40:28.380053+00:00')\n",
      "INSERT INTO citibike_2.validation.TRIPS_VALIDATION_CLEAN (COLUMN_NAME, EXPECTATION_TYPE, VALUE_SET, RESULT, SUCCESS_STATUS, RUNTIME) VALUES ('TRIPDURATION', 'expect_column_mean_to_be_between', '(13,14)', '1170.1611', 'False', '2023-12-20T04:40:28.380053+00:00')\n"
     ]
    }
   ],
   "source": [
    "from configs.config import snowflake_conn_prop_local as snowflake_conn_prop\n",
    "import snowflake.connector\n",
    "\n",
    "try:\n",
    "    conn = snowflake.connector.connect(**snowflake_conn_prop)\n",
    "\n",
    "    # Assuming df is your DataFrame with data\n",
    "    columns = df.columns.tolist()\n",
    "    table_name = 'citibike_2.validation.TRIPS_VALIDATION_CLEAN'\n",
    "\n",
    "    for index, row in df.iterrows():\n",
    "        column_name = row['COLUMN_NAME']\n",
    "        expectation_type = row['EXPECTATION_TYPE']\n",
    "        value_set = row['VALUE_SET']\n",
    "        result = row['RESULT']\n",
    "        success_status = row['SUCCESS_STATUS']\n",
    "        runtime = row['RUNTIME']\n",
    "\n",
    "        # Construct the SQL insert statement\n",
    "        insert_sql = f\"INSERT INTO {table_name} (COLUMN_NAME, EXPECTATION_TYPE, VALUE_SET, RESULT, SUCCESS_STATUS, RUNTIME) VALUES \"\n",
    "        insert_sql += f\"('{column_name}', '{expectation_type}', '{value_set}', '{result}', '{success_status}', '{runtime}')\"\n",
    "        print(insert_sql)\n",
    "\n",
    "        # Execute the insert statement\n",
    "        with conn.cursor() as cursor:\n",
    "            cursor.execute(insert_sql)\n",
    "\n",
    "    # Commit the changes and close the connection\n",
    "    conn.commit()\n",
    "\n",
    "finally:\n",
    "    conn.close()"
   ]
  }
 ],
 "metadata": {
  "kernelspec": {
   "display_name": "gx-snowflake-bV037mNw-py3.10",
   "language": "python",
   "name": "python3"
  },
  "language_info": {
   "codemirror_mode": {
    "name": "ipython",
    "version": 3
   },
   "file_extension": ".py",
   "mimetype": "text/x-python",
   "name": "python",
   "nbconvert_exporter": "python",
   "pygments_lexer": "ipython3",
   "version": "3.10.13"
  },
  "orig_nbformat": 4
 },
 "nbformat": 4,
 "nbformat_minor": 2
}
