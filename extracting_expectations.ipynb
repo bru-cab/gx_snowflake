{
 "cells": [
  {
   "cell_type": "code",
   "execution_count": 25,
   "metadata": {},
   "outputs": [],
   "source": [
    "from snowflake.snowpark.session import Session\n",
    "from configs.config import snowflake_conn_prop_local as snowflake_conn_prop\n",
    "session = Session.builder.configs(snowflake_conn_prop).create()"
   ]
  },
  {
   "cell_type": "code",
   "execution_count": 32,
   "metadata": {},
   "outputs": [],
   "source": [
    "from snowflake.snowpark.functions import col\n",
    "import pandas as pd\n",
    "import json\n",
    "\n",
    "def validate_table_columns(table_name):\n",
    "    # Assuming 'session' is a predefined Spark session\n",
    "    df_sql = session.table(\"CITIBIKE_2.VALIDATION.EXPECTATIONS\").filter(col(\"TABLE_NAME\") == table_name.upper())\n",
    "    data = df_sql.collect()\n",
    "    df = pd.DataFrame(data)  \n",
    "  \n",
    "   # Check if the necessary columns exist and the DataFrame is not empty\n",
    "    if all(column in df.columns for column in ['COLUMN_NAME', 'EXPECTATION', 'PARAMETERS']) and not df.empty:\n",
    "        # Iterate over each row in the DataFrame\n",
    "        for _, row in df.iterrows():\n",
    "            column_value = row['COLUMN_NAME']\n",
    "            expectation = row['EXPECTATION']\n",
    "            parameter = row['PARAMETERS']\n",
    "            parameter_dict = json.loads(parameter)\n",
    "\n",
    "            # Check for table-level expectations\n",
    "            if column_value == \"NONE\":\n",
    "                # Process table-level expectations\n",
    "                if expectation == 'expect_table_row_count_to_be_between':\n",
    "                    min_value = parameter_dict.get(\"min\")\n",
    "                    max_value = parameter_dict.get(\"max\")\n",
    "                    print(f\"Validating the table '{table_name}' with expectation '{expectation}' and parameters (Min: {min_value}, Max: {max_value}).\")\n",
    "                else:\n",
    "                    # Handle other table-level expectations if necessary\n",
    "                    print(f\"Encountered an unrecognized table-level expectation type '{expectation}' for table '{table_name}'.\")\n",
    "            else:\n",
    "                # Process column-level expectations            \n",
    "                if expectation in ['expect_column_min_to_be_between', 'expect_column_mean_to_be_between']:\n",
    "                    # For expectations with min and max values\n",
    "                    min_value = parameter_dict.get(\"min\")\n",
    "                    max_value = parameter_dict.get(\"max\")\n",
    "                    print(f\"Validating the column '{column_value}' with expectation '{expectation}' and parameters (Min: {min_value}, Max: {max_value}).\")\n",
    "                elif expectation == 'expect_column_values_to_be_in_set':\n",
    "                    # For expectations with a set of expected values\n",
    "                    expected_values = parameter_dict.get(\"expectedValues\", [])\n",
    "                    print(f\"Validating the column '{column_value}' with expectation '{expectation}' and expected values {expected_values}.\")              \n",
    "                else:\n",
    "                    # Handle other types of expectations if necessary\n",
    "                    print(f\"Encountered an unrecognized expectation type '{expectation}' for column '{column_value}'.\")\n",
    "    else:\n",
    "        print(\"The DataFrame is either empty or does not contain the necessary columns.\")"
   ]
  },
  {
   "cell_type": "code",
   "execution_count": 33,
   "metadata": {},
   "outputs": [
    {
     "name": "stdout",
     "output_type": "stream",
     "text": [
      "Validating the column 'AGE' with expectation 'expect_column_mean_to_be_between' and parameters (Min: 30, Max: 32141253312).\n",
      "Validating the table 'CONTACTS' with expectation 'expect_table_row_count_to_be_between' and parameters (Min: 0, Max: 10).\n"
     ]
    }
   ],
   "source": [
    "validate_table_columns(\"CONTACTS\")"
   ]
  }
 ],
 "metadata": {
  "kernelspec": {
   "display_name": "gx-snowflake-bV037mNw-py3.10",
   "language": "python",
   "name": "python3"
  },
  "language_info": {
   "codemirror_mode": {
    "name": "ipython",
    "version": 3
   },
   "file_extension": ".py",
   "mimetype": "text/x-python",
   "name": "python",
   "nbconvert_exporter": "python",
   "pygments_lexer": "ipython3",
   "version": "3.10.13"
  },
  "orig_nbformat": 4
 },
 "nbformat": 4,
 "nbformat_minor": 2
}
