{
 "cells": [
  {
   "cell_type": "code",
   "execution_count": 18,
   "id": "76ed59e1-ef9e-4053-88f9-2fa17b72168a",
   "metadata": {},
   "outputs": [
    {
     "name": "stdout",
     "output_type": "stream",
     "text": [
      "(1, 11, 1)\n",
      "[Row(CURRENT_WAREHOUSE()='COMPUTE', CURRENT_DATABASE()='CITIBIKE_2', CURRENT_SCHEMA()='PUBLIC')]\n"
     ]
    }
   ],
   "source": [
    "from snowflake.snowpark.session import Session\n",
    "from snowflake.snowpark.functions import udf, avg, col,lit,call_udf,countDistinct,sproc,udf\n",
    "from snowflake.snowpark.types import IntegerType, FloatType, StringType, BooleanType\n",
    "import pandas as pd\n",
    "from configs.config import snowflake_conn_prop_local as snowflake_conn_prop\n",
    "import sys\n",
    "import json\n",
    "import platform\n",
    "import os,requests\n",
    "from pathlib import Path\n",
    "import glob\n",
    "from src.DataValidationContext import *\n",
    "\n",
    "\n",
    "from snowflake.snowpark import version\n",
    "print(version.VERSION)\n",
    "session = Session.builder.configs(snowflake_conn_prop).create()\n",
    "\n",
    "print(session.sql('select current_warehouse(), current_database(), current_schema()').collect())"
   ]
  },
  {
   "cell_type": "code",
   "execution_count": 19,
   "id": "59d618b1-3881-4f5d-8fb8-59e7a4c7483b",
   "metadata": {},
   "outputs": [
    {
     "name": "stdout",
     "output_type": "stream",
     "text": [
      "./temp/tarfiles/great_expectations-0.15.14.tar.gz\n",
      "Create local dir: ./temp/tarfiles\n",
      "Create local dir: ./temp/libs\n",
      "Downloading library from PyPI to ./temp/tarfiles ...\n",
      "Started Extracting GE tar file to ./temp/tarfiles ...\n",
      "Done extracting GE tar file to ./temp/tarfiles ...\n"
     ]
    }
   ],
   "source": [
    "\n",
    "PROJECT_HOME_DIR = '.'\n",
    "LOCAL_TEMP_DIR = os.path.join(PROJECT_HOME_DIR, 'temp') \n",
    "LOCAL_LIB_DIR = os.path.join(LOCAL_TEMP_DIR, 'libs')\n",
    "LOCAL_TARFile_DIR = os.path.join(LOCAL_TEMP_DIR, 'tarfiles')\n",
    "LIB_URLS = [\n",
    "    #'https://files.pythonhosted.org/packages/9f/57/1539d783553f3d67cea1b55d7fe494373c5c0c9af689d4c0e0c2d3197739/great_expectations-0.15.17-py3-none-any.whl'\n",
    "    'https://files.pythonhosted.org/packages/8e/9d/cecb12289f7967b15facf550a0bbb9c1e910968c3a61b91fd8cdb80aeb3c/great_expectations-0.15.14.tar.gz'\n",
    "    \n",
    "]\n",
    "\n",
    "for lib_url in LIB_URLS:\n",
    "    # get the file name, from the url\n",
    "    splits = lib_url.split('/')\n",
    "    tot_splits = len(splits)\n",
    "    target_file = splits[-1]\n",
    "    \n",
    "    local_lib_fl = f'{LOCAL_TARFile_DIR}/{target_file}'\n",
    "    print(local_lib_fl)\n",
    "\n",
    "    # Create a local directory for TAR and extracting tar..\n",
    "    Path(LOCAL_TARFile_DIR).mkdir(parents=True, exist_ok=True)\n",
    "    print(f'Create local dir: {LOCAL_TARFile_DIR}')\n",
    "\n",
    "    Path(LOCAL_LIB_DIR).mkdir(parents=True, exist_ok=True)\n",
    "    print(f'Create local dir: {LOCAL_LIB_DIR}')\n",
    "\n",
    "    print(f'Downloading library from PyPI to {LOCAL_TARFile_DIR} ...')\n",
    "    with open(local_lib_fl, \"wb\") as f:\n",
    "        r = requests.get(lib_url)\n",
    "        f.write(r.content)\n",
    "\n",
    "        \n",
    "# Extract GE tar file\n",
    "\n",
    "import tarfile\n",
    "file = tarfile.open(local_lib_fl)\n",
    "print(f'Started Extracting GE tar file to {LOCAL_TARFile_DIR} ...')\n",
    "file.extractall(f'{LOCAL_LIB_DIR}/ge')\n",
    "file.close()\n",
    "print(f'Done extracting GE tar file to {LOCAL_TARFile_DIR} ...')\n",
    "                                    "
   ]
  },
  {
   "cell_type": "code",
   "execution_count": 20,
   "id": "0d673dfa-e374-4ac4-b6ee-0dbcbaf36fae",
   "metadata": {},
   "outputs": [
    {
     "name": "stdout",
     "output_type": "stream",
     "text": [
      "./temp/libs/ge/great_expectations-0.15.14/great_expectations\n"
     ]
    }
   ],
   "source": [
    "# Getting the path for the great_expectation folder after the tar file is extracted.\n",
    "\n",
    "import glob\n",
    "ge_import_path=''\n",
    "for result in glob.iglob('./temp/libs/ge/great_expectations*'):\n",
    "    ge_import_path=result+'/great_expectations'\n",
    "print(ge_import_path)\n"
   ]
  },
  {
   "cell_type": "code",
   "execution_count": 35,
   "id": "caac0c0e-f54f-43b8-ae50-1022e2499b98",
   "metadata": {},
   "outputs": [
    {
     "name": "stderr",
     "output_type": "stream",
     "text": [
      "The version of package 'packaging' in the local environment is 23.2, which does not fit the criteria for the requirement 'packaging'. Your UDF might not work when the package version is different between the server and your local environment.\n",
      "The version of package 'python-dotenv' in the local environment is 1.0.0, which does not fit the criteria for the requirement 'python-dotenv'. Your UDF might not work when the package version is different between the server and your local environment.\n",
      "The version of package 'pyparsing' in the local environment is 3.1.1, which does not fit the criteria for the requirement 'pyparsing'. Your UDF might not work when the package version is different between the server and your local environment.\n",
      "The version of package 'pandas' in the local environment is 2.1.4, which does not fit the criteria for the requirement 'pandas'. Your UDF might not work when the package version is different between the server and your local environment.\n",
      "Package 'pycryptodomex' is not installed in the local environment. Your UDF might not work when the package is installed on the server but not on your local environment.\n",
      "Package 'boto3' is not installed in the local environment. Your UDF might not work when the package is installed on the server but not on your local environment.\n",
      "The version of package 'tzlocal' in the local environment is 5.2, which does not fit the criteria for the requirement 'tzlocal'. Your UDF might not work when the package version is different between the server and your local environment.\n",
      "The version of package 'tqdm' in the local environment is 4.66.1, which does not fit the criteria for the requirement 'tqdm'. Your UDF might not work when the package version is different between the server and your local environment.\n",
      "The version of package 'ruamel.yaml' in the local environment is 0.17.17, which does not fit the criteria for the requirement 'ruamel.yaml'. Your UDF might not work when the package version is different between the server and your local environment.\n",
      "The version of package 'ipython' in the local environment is 8.18.1, which does not fit the criteria for the requirement 'ipython'. Your UDF might not work when the package version is different between the server and your local environment.\n",
      "The version of package 'jsonpatch' in the local environment is 1.33, which does not fit the criteria for the requirement 'jsonpatch'. Your UDF might not work when the package version is different between the server and your local environment.\n",
      "The version of package 'mistune' in the local environment is 3.0.2, which does not fit the criteria for the requirement 'mistune'. Your UDF might not work when the package version is different between the server and your local environment.\n",
      "The version of package 'jsonschema' in the local environment is 4.20.0, which does not fit the criteria for the requirement 'jsonschema'. Your UDF might not work when the package version is different between the server and your local environment.\n",
      "The version of package 'scipy' in the local environment is 1.11.4, which does not fit the criteria for the requirement 'scipy'. Your UDF might not work when the package version is different between the server and your local environment.\n",
      "The version of package 'cryptography' in the local environment is 41.0.7, which does not fit the criteria for the requirement 'cryptography'. Your UDF might not work when the package version is different between the server and your local environment.\n",
      "The version of package 'snowflake-snowpark-python' in the local environment is 1.11.1, which does not fit the criteria for the requirement 'snowflake-snowpark-python'. Your UDF might not work when the package version is different between the server and your local environment.\n",
      "Package 'sqlalchemy' is not installed in the local environment. Your UDF might not work when the package is installed on the server but not on your local environment.\n",
      "Package 'chardet' is not installed in the local environment. Your UDF might not work when the package is installed on the server but not on your local environment.\n"
     ]
    }
   ],
   "source": [
    "from configs.config import snowflake_conn_prop_local as snowflake_conn_prop\n",
    "from src.DataValidationContext import GEDataValidationContext\n",
    "from src.BatchRequest import getBatchRequest\n",
    "from src.Expectations import  createExpectationSuite, createExpectations\n",
    "from src.RunLoadExpectations import runExpectaionValidation,loadValidationToDB\n",
    "from dotenv import load_dotenv\n",
    "load_dotenv()\n",
    "\n",
    "import json\n",
    "import os\n",
    "\n",
    "\n",
    "session.sql(\"create or replace stage phani_greatexpectation\").collect()\n",
    "session.clear_packages()\n",
    "session.add_packages('packaging','python-dotenv','pyparsing','pandas','pycryptodomex','boto3','tzlocal','tqdm','requests','ruamel.yaml','ipython','jsonpatch','mistune','jinja2','jsonschema','scipy','altair','Click','colorama','cryptography','snowflake-snowpark-python','sqlalchemy','chardet','asn1crypto')\n",
    "session.clear_imports()\n",
    "session.add_import(ge_import_path)\n",
    "session.add_import('src')\n",
    "session.add_import('configs')\n",
    "\n",
    "@sproc(session=session,name=\"GEValidationResults\", replace=True, \n",
    "       return_type=StringType(),\n",
    "       input_types=[StringType(),StringType(),StringType()],\n",
    "       is_permanent=True, stage_location='@phani_greatexpectation/ge_AllLibs')\n",
    "\n",
    "def generateGEValidationResults(session: Session, db_name: str, schema_name: str ,table_name: str) -> str:\n",
    "        \n",
    "    from pathlib import Path\n",
    "    import os ,sys ,json ,tarfile, dotenv\n",
    "    \n",
    "    expecationsuitename = \"expecationsuitename\"\n",
    "    checkpointname = \"checkpointname\"\n",
    "    \n",
    "    sftablename = f'{db_name}.VALIDATION.{table_name}_VALIDATION_RAW'\n",
    "\n",
    "    #Creating GE context inside code\n",
    "    ge=GEDataValidationContext(table_name)\n",
    "    context=ge.getContext()\n",
    "    \n",
    "    # Creating the Pandas DataFrame from Snowpark DF\n",
    "    query = f' SELECT * FROM {db_name}.{schema_name}.{table_name} LIMIT 10000'\n",
    "    pd_df = session.sql(query).to_pandas()   \n",
    "\n",
    "    # Getting the batch request used while creating and running validation on expectations\n",
    "    local_batch_request=getBatchRequest(context,table_name,pd_df)\n",
    "    \n",
    "    #Creating GE expectation Suite\n",
    "    createExpectationSuite(context,expecationsuitename)\n",
    "\n",
    "    #Creating GE expecations\n",
    "    createExpectations(session, context,expecationsuitename,local_batch_request,pd_df, table_name)\n",
    "    \n",
    "    #Running GE validation \n",
    "    res=runExpectaionValidation(context,checkpointname,local_batch_request,expecationsuitename,table_name)\n",
    "    \n",
    "    #Loading validation result to Snowflake table. Using append option while writing the data to the table\n",
    "    loadValidationToDB(session,res,sftablename)\n",
    "      \n",
    "    return f'VALIDATION RESULTS SUCCESSFULLY STORED ON {sftablename}'.upper()\n",
    "\n",
    "    "
   ]
  },
  {
   "cell_type": "code",
   "execution_count": 36,
   "id": "4e3abb2f-dda0-4bae-93fa-60bcb7539abb",
   "metadata": {},
   "outputs": [
    {
     "data": {
      "text/plain": [
       "[Row(GEVALIDATIONRESULTS='VALIDATION RESULTS SUCCESSFULLY STORED ON CITIBIKE_2.VALIDATION.TRIPS_VALIDATION_RAW')]"
      ]
     },
     "execution_count": 36,
     "metadata": {},
     "output_type": "execute_result"
    }
   ],
   "source": [
    "#Calling SP\n",
    "session.sql(\"call GEValidationResults('CITIBIKE_2','PUBLIC','TRIPS')\").collect()"
   ]
  },
  {
   "cell_type": "code",
   "execution_count": null,
   "id": "848e67d5-24c5-4f7c-9cfb-c62345dd5736",
   "metadata": {},
   "outputs": [],
   "source": []
  }
 ],
 "metadata": {
  "kernelspec": {
   "display_name": "Python 3 (ipykernel)",
   "language": "python",
   "name": "python3"
  },
  "language_info": {
   "codemirror_mode": {
    "name": "ipython",
    "version": 3
   },
   "file_extension": ".py",
   "mimetype": "text/x-python",
   "name": "python",
   "nbconvert_exporter": "python",
   "pygments_lexer": "ipython3",
   "version": "3.10.13"
  }
 },
 "nbformat": 4,
 "nbformat_minor": 5
}
